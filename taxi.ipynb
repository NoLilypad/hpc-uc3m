{
 "cells": [
  {
   "cell_type": "markdown",
   "id": "bdfd70b7-cfee-4ebe-9465-812369d909dc",
   "metadata": {},
   "source": [
    "## Introduction\n",
    "\n",
    "This analysis investigates tipping behavior in taxi rides. We wanted to see if the number of passengers in a car affects the average tip percentage given at the end of the ride. By analyzing a large dataset of trips, we compared the average tips for groups of different sizes (specifically, rides with one to six passengers) to identify any clear patterns or differences."
   ]
  },
  {
   "cell_type": "markdown",
   "id": "41698e17-f594-4181-bc40-b866f573d62e",
   "metadata": {},
   "source": [
    "## First implementation"
   ]
  },
  {
   "cell_type": "markdown",
   "id": "127d17dc-e577-4e0e-b158-7d75d5283a73",
   "metadata": {},
   "source": [
    "We first load the data using the Parquet parser of Spark."
   ]
  },
  {
   "cell_type": "code",
   "execution_count": 67,
   "id": "29129164-9eab-4318-97fa-bdb10d9a6fd5",
   "metadata": {},
   "outputs": [
    {
     "name": "stdout",
     "output_type": "stream",
     "text": [
      "Number of trips: 179807942\n",
      "root\n",
      " |-- VendorID: long (nullable = true)\n",
      " |-- tpep_pickup_datetime: timestamp_ntz (nullable = true)\n",
      " |-- tpep_dropoff_datetime: timestamp_ntz (nullable = true)\n",
      " |-- passenger_count: double (nullable = true)\n",
      " |-- trip_distance: double (nullable = true)\n",
      " |-- RatecodeID: double (nullable = true)\n",
      " |-- store_and_fwd_flag: string (nullable = true)\n",
      " |-- PULocationID: long (nullable = true)\n",
      " |-- DOLocationID: long (nullable = true)\n",
      " |-- payment_type: long (nullable = true)\n",
      " |-- fare_amount: double (nullable = true)\n",
      " |-- extra: double (nullable = true)\n",
      " |-- mta_tax: double (nullable = true)\n",
      " |-- tip_amount: double (nullable = true)\n",
      " |-- tolls_amount: double (nullable = true)\n",
      " |-- improvement_surcharge: double (nullable = true)\n",
      " |-- total_amount: double (nullable = true)\n",
      " |-- congestion_surcharge: double (nullable = true)\n",
      " |-- airport_fee: integer (nullable = true)\n",
      "\n"
     ]
    }
   ],
   "source": [
    "from pyspark.sql import SparkSession\n",
    "from pyspark import SparkContext, SparkConf\n",
    "from pyspark.sql import functions as F\n",
    "\n",
    "spark = SparkSession.builder.master('local[2]').getOrCreate()\n",
    "df = spark.read.format(\"parquet\").option(\"inferSchema\", \"true\").option(\"timestampFormat\",\"yyyy-MM-dd HH:mm:ss\").option(\"header\", \"true\").option(\"mode\", \"DROPMALFORMED\").load(\"data/*.parquet\")\n",
    "print(\"Number of trips:\",df.count())\n",
    "df.printSchema()"
   ]
  },
  {
   "cell_type": "markdown",
   "id": "b0802058-740d-42fa-a71f-90c0eb198eee",
   "metadata": {},
   "source": [
    "In the Spark UI, we can see that loading the data took 0.418 milliseconds."
   ]
  },
  {
   "cell_type": "code",
   "execution_count": 61,
   "id": "dedc4117-b268-407d-82ae-86805725cc30",
   "metadata": {},
   "outputs": [
    {
     "name": "stdout",
     "output_type": "stream",
     "text": [
      "+---------------+------------------+\n",
      "|passenger_count|   avg_tip_percent|\n",
      "+---------------+------------------+\n",
      "|           NULL|60.063419331989465|\n",
      "|          112.0|16.666666666666664|\n",
      "|           96.0|13.043478260869568|\n",
      "|            1.0| 11.40766087844835|\n",
      "|            5.0|11.352980006859077|\n",
      "|            6.0|11.309975849139262|\n",
      "|            2.0|11.118978531585393|\n",
      "|            0.0|11.036427380815713|\n",
      "|            3.0|    10.88123160406|\n",
      "|            4.0|10.170780710575505|\n",
      "|            8.0| 9.690808621531673|\n",
      "|            9.0| 9.566487658538772|\n",
      "|            7.0| 9.419216760568446|\n",
      "+---------------+------------------+\n",
      "\n"
     ]
    }
   ],
   "source": [
    "df.select(\"PULocationID\", \"DOLocationID\", \"tip_amount\", \"passenger_count\", \"total_amount\") \\\n",
    "    .filter(df[\"total_amount\"] > 0) \\\n",
    "    .withColumn(\"tip_percent\", (F.col(\"tip_amount\") / F.col(\"total_amount\") * 100)) \\\n",
    "    .groupBy(\"passenger_count\") \\\n",
    "    .agg(F.avg(\"tip_percent\").alias(\"avg_tip_percent\")).orderBy(F.desc(\"avg_tip_percent\")) \\\n",
    "    .show()"
   ]
  },
  {
   "cell_type": "markdown",
   "id": "d612f824-271b-4d07-a2d7-a7e4ffa9f219",
   "metadata": {},
   "source": [
    "Spark UI shows that this operation took 11 seconds.\n",
    "\n",
    "This first analysis of the tips is not accurate because of incorrect data. Some trips have no passenger number (NULL) or impossible numbers, like 96 or 112. These strange figures made the calculation of the average tip wrong.\n",
    "\n",
    "## Second implementation\n",
    "\n",
    "To fix this and get more accurate results, we filter the data to only keep rides with a normal number of passengers, specifically between 1 and 6. This removes the unrealistic trips. Then, we count the total number of rides for each passenger group. We then decided to only keep groups that had more than 1,000 rides. This makes sure our average is based on a large amount of data, not just a few trips."
   ]
  },
  {
   "cell_type": "markdown",
   "id": "c32a63bc-cedc-4306-ace6-184a79b59296",
   "metadata": {},
   "source": [
    "df.select(\"PULocationID\", \"DOLocationID\", \"tip_amount\", \"passenger_count\", \"total_amount\") \\\n",
    "    .filter(df[\"total_amount\"] > 0) \\\n",
    "    .withColumn(\"tip_percent\", (F.col(\"tip_amount\") / F.col(\"total_amount\") * 100)) \\\n",
    "    .filter(F.col(\"passenger_count\").between(1, 6)) \\\n",
    "    .groupBy(\"passenger_count\") \\\n",
    "    .agg(F.count(\"*\").alias(\"nb_courses\"),F.avg(\"tip_percent\").alias(\"avg_tip_percent\")) \\\n",
    "    .filter(F.col(\"nb_courses\") > 1000) \\\n",
    "    .orderBy(F.desc(\"avg_tip_percent\")) \\\n",
    "    .show()"
   ]
  },
  {
   "cell_type": "markdown",
   "id": "a0d8bc55-da0d-4bc7-bb37-82b4ed37c3a8",
   "metadata": {},
   "source": [
    "Spark UI shows that this operation also took 11 seconds. This shows that the complexity of the operation is far from being the bottleneck of the processing time, instead it is the data size.\n",
    "\n",
    "## Conclusion\n",
    "\n",
    "Based on the analysis, the number of passengers has a small but clear effect on tipping habits.\n",
    "\n",
    "Our results show that single passengers (1.0) gave the highest average tips, at 11.41%. The lowest tips came from groups of four passengers (4.0), who tipped an average of 10.17% of total amount. While the differences are not massive, the data clearly indicates that traveling alone or in a group of four impacts the final tip percentage.\n",
    "\n",
    "Spark's DataFrame allowed us to handle over 179 million rides for this analysis. We chained commands like .select(), .filter(), and .groupBy() to create a clear and logical \"recipe\" for our task. This approach is easy to read and efficient, allowing Spark to handle all the difficult work of processing such a huge volume of data.\n"
   ]
  }
 ],
 "metadata": {
  "kernelspec": {
   "display_name": "Python 3 (ipykernel)",
   "language": "python",
   "name": "python3"
  },
  "language_info": {
   "codemirror_mode": {
    "name": "ipython",
    "version": 3
   },
   "file_extension": ".py",
   "mimetype": "text/x-python",
   "name": "python",
   "nbconvert_exporter": "python",
   "pygments_lexer": "ipython3",
   "version": "3.13.7"
  }
 },
 "nbformat": 4,
 "nbformat_minor": 5
}
